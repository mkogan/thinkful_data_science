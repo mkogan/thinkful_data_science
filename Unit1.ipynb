{
 "metadata": {
  "name": "",
  "signature": "sha256:9f4daef00d01f1e69ce3a6691dd956ba6bdb2a940cb4b74e3fb61e22813ec666"
 },
 "nbformat": 3,
 "nbformat_minor": 0,
 "worksheets": [
  {
   "cells": [
    {
     "cell_type": "code",
     "collapsed": false,
     "input": [
      "import collections\n",
      "population_dict = collections.defaultdict(int)\n",
      "with open(\"E:\\Users\\Mark\\Projects\\u1a6\\lecz-urban-rural-population-land-area-estimates_continent-90m.csv\",'rU') as inputFile:\n",
      "    header = next(inputFile)\n",
      "    for line in inputFile:\n",
      "        line = line.rstrip().split(',')\n",
      "        line[5] = int(line[5])\n",
      "        if line[1] == 'Total National Population':\n",
      "            population_dict[line[0]] += line[5]"
     ],
     "language": "python",
     "metadata": {},
     "outputs": [],
     "prompt_number": 1
    },
    {
     "cell_type": "code",
     "collapsed": false,
     "input": [
      "print header, population_dict, line"
     ],
     "language": "python",
     "metadata": {},
     "outputs": [
      {
       "output_type": "stream",
       "stream": "stdout",
       "text": [
        "Continent,ElevationZone,UrbanRuralDesignation,Population1990,Population2000,Population2010,Population2100,LandArea\n",
        "defaultdict(<type 'int'>, {'Europe': 704784295, 'Oceania': 37176851, 'Africa': 901529814, 'Asia': 4066850410L, 'North America': 505581737, 'South America': 380024562}) ['South America', 'Total National Population', 'Urban', '173863402', '208463363', 239968353, '389584115', '306223']\n"
       ]
      }
     ],
     "prompt_number": 20
    },
    {
     "cell_type": "code",
     "collapsed": false,
     "input": [
      "with open(\"E:\\Users\\Mark\\Projects\\u1a6\\\\t.csv\",'w') as outputFile:\n",
      "    outputFile.write('continent,2010_population\\n')\n",
      "    for k,v in population_dict.iteritems():\n",
      "        outputFile.write(k+','+str(v)+'\\n')"
     ],
     "language": "python",
     "metadata": {},
     "outputs": [],
     "prompt_number": 18
    },
    {
     "cell_type": "heading",
     "level": 4,
     "metadata": {},
     "source": [
      "Challenge: 1"
     ]
    },
    {
     "cell_type": "code",
     "collapsed": false,
     "input": [
      "population_diff_dict=collections.defaultdict(int)\n",
      "with open(\"E:\\Users\\Mark\\Projects\\u1a6\\lecz-urban-rural-population-land-area-estimates_continent-90m.csv\",'rU') as inputFile:\n",
      "    header=next(inputFile)\n",
      "    for line in inputFile:\n",
      "        line=line.rstrip().split(',')\n",
      "        if line[1] == 'Total National Population':\n",
      "            population_diff_dict[line[0]]+=(float(line[6])-int(line[5]))\n",
      "\n",
      "print population_diff_dict\n",
      "#answer: Asia        \n"
     ],
     "language": "python",
     "metadata": {},
     "outputs": [
      {
       "output_type": "stream",
       "stream": "stdout",
       "text": [
        "defaultdict(<type 'int'>, {'Europe': -261929999.0, 'Oceania': 8729667.0, 'Africa': 1116325992.0, 'Asia': 1780634474.0, 'North America': 251329760.0, 'South America': 248762194.0})\n"
       ]
      }
     ],
     "prompt_number": 27
    },
    {
     "cell_type": "heading",
     "level": 4,
     "metadata": {},
     "source": [
      "Challenge: 2"
     ]
    },
    {
     "cell_type": "code",
     "collapsed": false,
     "input": [
      "population_area_dict=collections.defaultdict(float)\n",
      "pop_density=collections.defaultdict(int)\n",
      "with open(\"E:\\Users\\Mark\\Projects\\u1a6\\lecz-urban-rural-population-land-area-estimates_continent-90m.csv\",'rU') as inputFile:\n",
      "    header=next(inputFile)\n",
      "    for line in inputFile:\n",
      "        line=line.rstrip().split(',')\n",
      "        if line[1] == 'Total National Population':\n",
      "            population_area_dict[line[0]]+=(float(line[7]))\n",
      "            \n",
      "for k in population_area_dict:\n",
      "    pop_density[k]=int(population_dict[k]/population_area_dict[k])\n",
      "    \n",
      "print pop_density\n",
      "#answer: Europe        \n"
     ],
     "language": "python",
     "metadata": {},
     "outputs": [
      {
       "output_type": "stream",
       "stream": "stdout",
       "text": [
        "defaultdict(<type 'int'>, {'Europe': 128, 'Oceania': 4, 'Africa': 37, 'Asia': 99, 'North America': 23, 'South America': 23})\n"
       ]
      }
     ],
     "prompt_number": 38
    },
    {
     "cell_type": "code",
     "collapsed": false,
     "input": [],
     "language": "python",
     "metadata": {},
     "outputs": []
    }
   ],
   "metadata": {}
  }
 ]
}